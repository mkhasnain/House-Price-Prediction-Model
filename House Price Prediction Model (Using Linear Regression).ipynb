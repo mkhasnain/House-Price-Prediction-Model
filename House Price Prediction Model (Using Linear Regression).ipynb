{
 "cells": [
  {
   "cell_type": "markdown",
   "id": "3055e15c",
   "metadata": {},
   "source": [
    "## DataSet:\n",
    "\n",
    "Reading a CSV file containing attributes such as name, id, neighbourhood, latitude, longitude and more.\n",
    "\n",
    "The attribute \"Price\" is the dependent attribute in our dataset.\n",
    "        "
   ]
  },
  {
   "cell_type": "markdown",
   "id": "8efd761e",
   "metadata": {},
   "source": [
    "## Goal:\n",
    "\n",
    "The purpose of this project is to build a predictive model that can accurately estimate the price for a property based on various features such as latitude, longitude, minimum_nights, number_of_reviews, reviews_per_month, calculated host listings count and availability_365. The model will be trained using the data provided in the csv file and will allow stakeholders to make informed decisions on pricing and property management strategies. The ultimate goal is to improve the efficiency and profitability of the rental market by providing accurate rental price predictions based on the features mentioned above."
   ]
  },
  {
   "cell_type": "code",
   "execution_count": 1,
   "id": "d0474d9a",
   "metadata": {},
   "outputs": [],
   "source": [
    "import pandas as pd\n",
    "import numpy as np\n",
    "from sklearn.model_selection import train_test_split, cross_val_score\n",
    "from sklearn import linear_model"
   ]
  },
  {
   "cell_type": "markdown",
   "id": "341ad51d",
   "metadata": {},
   "source": [
    "# Exploratory Data Analysis:"
   ]
  },
  {
   "cell_type": "markdown",
   "id": "b2ab2c3d",
   "metadata": {},
   "source": [
    "## Reading the dataset into Pandas Dataframe\n",
    "\n",
    "This code reads the data from the csv file 'dataSP23.csv' and stores it in a Pandas dataframe called 'dataset'. The data is then displayed using the .head() function which shows the first 5 rows of the dataframe. This allows the user to check if the data was loaded correctly and to have a quick overview of the structure of the data."
   ]
  },
  {
   "cell_type": "code",
   "execution_count": 2,
   "id": "9ea9336b",
   "metadata": {},
   "outputs": [
    {
     "data": {
      "text/html": [
       "<div>\n",
       "<style scoped>\n",
       "    .dataframe tbody tr th:only-of-type {\n",
       "        vertical-align: middle;\n",
       "    }\n",
       "\n",
       "    .dataframe tbody tr th {\n",
       "        vertical-align: top;\n",
       "    }\n",
       "\n",
       "    .dataframe thead th {\n",
       "        text-align: right;\n",
       "    }\n",
       "</style>\n",
       "<table border=\"1\" class=\"dataframe\">\n",
       "  <thead>\n",
       "    <tr style=\"text-align: right;\">\n",
       "      <th></th>\n",
       "      <th>id</th>\n",
       "      <th>name</th>\n",
       "      <th>host_id</th>\n",
       "      <th>host_name</th>\n",
       "      <th>neighbourhood_group</th>\n",
       "      <th>neighbourhood</th>\n",
       "      <th>latitude</th>\n",
       "      <th>longitude</th>\n",
       "      <th>room_type</th>\n",
       "      <th>price</th>\n",
       "      <th>minimum_nights</th>\n",
       "      <th>number_of_reviews</th>\n",
       "      <th>last_review</th>\n",
       "      <th>reviews_per_month</th>\n",
       "      <th>calculated_host_listings_count</th>\n",
       "      <th>availability_365</th>\n",
       "    </tr>\n",
       "  </thead>\n",
       "  <tbody>\n",
       "    <tr>\n",
       "      <th>0</th>\n",
       "      <td>1</td>\n",
       "      <td>Clinton Hill Apartment Single Bedroom ! Pratt ~~</td>\n",
       "      <td>30610258</td>\n",
       "      <td>Santiago</td>\n",
       "      <td>Brooklyn</td>\n",
       "      <td>Clinton Hill</td>\n",
       "      <td>40.69591</td>\n",
       "      <td>-73.96284</td>\n",
       "      <td>Private room</td>\n",
       "      <td>58</td>\n",
       "      <td>2</td>\n",
       "      <td>1</td>\n",
       "      <td>9/23/2018</td>\n",
       "      <td>0.10</td>\n",
       "      <td>1</td>\n",
       "      <td>0</td>\n",
       "    </tr>\n",
       "    <tr>\n",
       "      <th>1</th>\n",
       "      <td>2</td>\n",
       "      <td>Andy Phillips</td>\n",
       "      <td>6180052</td>\n",
       "      <td>Andrian</td>\n",
       "      <td>Brooklyn</td>\n",
       "      <td>Fort Greene</td>\n",
       "      <td>40.68769</td>\n",
       "      <td>-73.97490</td>\n",
       "      <td>Private room</td>\n",
       "      <td>99</td>\n",
       "      <td>5</td>\n",
       "      <td>4</td>\n",
       "      <td>9/29/2017</td>\n",
       "      <td>0.17</td>\n",
       "      <td>1</td>\n",
       "      <td>250</td>\n",
       "    </tr>\n",
       "    <tr>\n",
       "      <th>2</th>\n",
       "      <td>3</td>\n",
       "      <td>Stylish, Comfortable, and Affordable in Brooklyn</td>\n",
       "      <td>5957027</td>\n",
       "      <td>Zachary</td>\n",
       "      <td>Brooklyn</td>\n",
       "      <td>Crown Heights</td>\n",
       "      <td>40.67667</td>\n",
       "      <td>-73.91750</td>\n",
       "      <td>Entire home/apt</td>\n",
       "      <td>180</td>\n",
       "      <td>2</td>\n",
       "      <td>126</td>\n",
       "      <td>6/14/2019</td>\n",
       "      <td>3.74</td>\n",
       "      <td>1</td>\n",
       "      <td>74</td>\n",
       "    </tr>\n",
       "    <tr>\n",
       "      <th>3</th>\n",
       "      <td>4</td>\n",
       "      <td>15 min train ride to Times Sq and  US OPEN</td>\n",
       "      <td>101602599</td>\n",
       "      <td>M</td>\n",
       "      <td>Queens</td>\n",
       "      <td>Woodside</td>\n",
       "      <td>40.74340</td>\n",
       "      <td>-73.90588</td>\n",
       "      <td>Entire home/apt</td>\n",
       "      <td>50</td>\n",
       "      <td>1</td>\n",
       "      <td>95</td>\n",
       "      <td>6/24/2019</td>\n",
       "      <td>5.63</td>\n",
       "      <td>2</td>\n",
       "      <td>0</td>\n",
       "    </tr>\n",
       "    <tr>\n",
       "      <th>4</th>\n",
       "      <td>5</td>\n",
       "      <td>Sunny 2 bdrm Park Slope Apt w/ Yard 3min to Su...</td>\n",
       "      <td>106168581</td>\n",
       "      <td>Jason</td>\n",
       "      <td>Brooklyn</td>\n",
       "      <td>South Slope</td>\n",
       "      <td>40.66600</td>\n",
       "      <td>-73.99020</td>\n",
       "      <td>Entire home/apt</td>\n",
       "      <td>210</td>\n",
       "      <td>4</td>\n",
       "      <td>88</td>\n",
       "      <td>7/4/2019</td>\n",
       "      <td>4.41</td>\n",
       "      <td>1</td>\n",
       "      <td>20</td>\n",
       "    </tr>\n",
       "  </tbody>\n",
       "</table>\n",
       "</div>"
      ],
      "text/plain": [
       "   id                                               name    host_id host_name  \\\n",
       "0   1   Clinton Hill Apartment Single Bedroom ! Pratt ~~   30610258  Santiago   \n",
       "1   2                                      Andy Phillips    6180052   Andrian   \n",
       "2   3   Stylish, Comfortable, and Affordable in Brooklyn    5957027   Zachary   \n",
       "3   4         15 min train ride to Times Sq and  US OPEN  101602599         M   \n",
       "4   5  Sunny 2 bdrm Park Slope Apt w/ Yard 3min to Su...  106168581     Jason   \n",
       "\n",
       "  neighbourhood_group  neighbourhood  latitude  longitude        room_type  \\\n",
       "0            Brooklyn   Clinton Hill  40.69591  -73.96284     Private room   \n",
       "1            Brooklyn    Fort Greene  40.68769  -73.97490     Private room   \n",
       "2            Brooklyn  Crown Heights  40.67667  -73.91750  Entire home/apt   \n",
       "3              Queens       Woodside  40.74340  -73.90588  Entire home/apt   \n",
       "4            Brooklyn    South Slope  40.66600  -73.99020  Entire home/apt   \n",
       "\n",
       "   price  minimum_nights  number_of_reviews last_review  reviews_per_month  \\\n",
       "0     58               2                  1   9/23/2018               0.10   \n",
       "1     99               5                  4   9/29/2017               0.17   \n",
       "2    180               2                126   6/14/2019               3.74   \n",
       "3     50               1                 95   6/24/2019               5.63   \n",
       "4    210               4                 88    7/4/2019               4.41   \n",
       "\n",
       "   calculated_host_listings_count  availability_365  \n",
       "0                               1                 0  \n",
       "1                               1               250  \n",
       "2                               1                74  \n",
       "3                               2                 0  \n",
       "4                               1                20  "
      ]
     },
     "execution_count": 2,
     "metadata": {},
     "output_type": "execute_result"
    }
   ],
   "source": [
    "dataset = pd.read_csv(r\"C:\\Users\\HP\\Downloads\\dataSP23.csv\")\n",
    "dataset.head()"
   ]
  },
  {
   "cell_type": "markdown",
   "id": "7ce46c6e",
   "metadata": {},
   "source": [
    "# Unnecessary Attributes\n",
    "\n",
    "We will remove the unnecessary columns from the dataframe. This code uses the drop() function to remove the columns 'id', 'name', 'host_id' and 'last_review' from the dataframe. This is done because these columns are not useful in predicting the price of the listing and can negatively affect the performance of the model."
   ]
  },
  {
   "cell_type": "code",
   "execution_count": 3,
   "id": "4490bf1d",
   "metadata": {},
   "outputs": [
    {
     "data": {
      "text/html": [
       "<div>\n",
       "<style scoped>\n",
       "    .dataframe tbody tr th:only-of-type {\n",
       "        vertical-align: middle;\n",
       "    }\n",
       "\n",
       "    .dataframe tbody tr th {\n",
       "        vertical-align: top;\n",
       "    }\n",
       "\n",
       "    .dataframe thead th {\n",
       "        text-align: right;\n",
       "    }\n",
       "</style>\n",
       "<table border=\"1\" class=\"dataframe\">\n",
       "  <thead>\n",
       "    <tr style=\"text-align: right;\">\n",
       "      <th></th>\n",
       "      <th>neighbourhood_group</th>\n",
       "      <th>neighbourhood</th>\n",
       "      <th>latitude</th>\n",
       "      <th>longitude</th>\n",
       "      <th>room_type</th>\n",
       "      <th>price</th>\n",
       "      <th>minimum_nights</th>\n",
       "      <th>number_of_reviews</th>\n",
       "      <th>reviews_per_month</th>\n",
       "      <th>calculated_host_listings_count</th>\n",
       "      <th>availability_365</th>\n",
       "    </tr>\n",
       "  </thead>\n",
       "  <tbody>\n",
       "    <tr>\n",
       "      <th>0</th>\n",
       "      <td>Brooklyn</td>\n",
       "      <td>Clinton Hill</td>\n",
       "      <td>40.69591</td>\n",
       "      <td>-73.96284</td>\n",
       "      <td>Private room</td>\n",
       "      <td>58</td>\n",
       "      <td>2</td>\n",
       "      <td>1</td>\n",
       "      <td>0.10</td>\n",
       "      <td>1</td>\n",
       "      <td>0</td>\n",
       "    </tr>\n",
       "    <tr>\n",
       "      <th>1</th>\n",
       "      <td>Brooklyn</td>\n",
       "      <td>Fort Greene</td>\n",
       "      <td>40.68769</td>\n",
       "      <td>-73.97490</td>\n",
       "      <td>Private room</td>\n",
       "      <td>99</td>\n",
       "      <td>5</td>\n",
       "      <td>4</td>\n",
       "      <td>0.17</td>\n",
       "      <td>1</td>\n",
       "      <td>250</td>\n",
       "    </tr>\n",
       "    <tr>\n",
       "      <th>2</th>\n",
       "      <td>Brooklyn</td>\n",
       "      <td>Crown Heights</td>\n",
       "      <td>40.67667</td>\n",
       "      <td>-73.91750</td>\n",
       "      <td>Entire home/apt</td>\n",
       "      <td>180</td>\n",
       "      <td>2</td>\n",
       "      <td>126</td>\n",
       "      <td>3.74</td>\n",
       "      <td>1</td>\n",
       "      <td>74</td>\n",
       "    </tr>\n",
       "    <tr>\n",
       "      <th>3</th>\n",
       "      <td>Queens</td>\n",
       "      <td>Woodside</td>\n",
       "      <td>40.74340</td>\n",
       "      <td>-73.90588</td>\n",
       "      <td>Entire home/apt</td>\n",
       "      <td>50</td>\n",
       "      <td>1</td>\n",
       "      <td>95</td>\n",
       "      <td>5.63</td>\n",
       "      <td>2</td>\n",
       "      <td>0</td>\n",
       "    </tr>\n",
       "    <tr>\n",
       "      <th>4</th>\n",
       "      <td>Brooklyn</td>\n",
       "      <td>South Slope</td>\n",
       "      <td>40.66600</td>\n",
       "      <td>-73.99020</td>\n",
       "      <td>Entire home/apt</td>\n",
       "      <td>210</td>\n",
       "      <td>4</td>\n",
       "      <td>88</td>\n",
       "      <td>4.41</td>\n",
       "      <td>1</td>\n",
       "      <td>20</td>\n",
       "    </tr>\n",
       "  </tbody>\n",
       "</table>\n",
       "</div>"
      ],
      "text/plain": [
       "  neighbourhood_group  neighbourhood  latitude  longitude        room_type  \\\n",
       "0            Brooklyn   Clinton Hill  40.69591  -73.96284     Private room   \n",
       "1            Brooklyn    Fort Greene  40.68769  -73.97490     Private room   \n",
       "2            Brooklyn  Crown Heights  40.67667  -73.91750  Entire home/apt   \n",
       "3              Queens       Woodside  40.74340  -73.90588  Entire home/apt   \n",
       "4            Brooklyn    South Slope  40.66600  -73.99020  Entire home/apt   \n",
       "\n",
       "   price  minimum_nights  number_of_reviews  reviews_per_month  \\\n",
       "0     58               2                  1               0.10   \n",
       "1     99               5                  4               0.17   \n",
       "2    180               2                126               3.74   \n",
       "3     50               1                 95               5.63   \n",
       "4    210               4                 88               4.41   \n",
       "\n",
       "   calculated_host_listings_count  availability_365  \n",
       "0                               1                 0  \n",
       "1                               1               250  \n",
       "2                               1                74  \n",
       "3                               2                 0  \n",
       "4                               1                20  "
      ]
     },
     "execution_count": 3,
     "metadata": {},
     "output_type": "execute_result"
    }
   ],
   "source": [
    "dataset.drop(labels = ['id', 'name','host_id', 'host_name','last_review'], axis=1, inplace=True)\n",
    "dataset.head(5)"
   ]
  },
  {
   "cell_type": "markdown",
   "id": "09a4323f",
   "metadata": {},
   "source": [
    "\n",
    "# Checking for attriubutes read as objects in the DataFrame\n",
    "\n",
    "We'll use the \".info()\" method to see how python is thinking about the features of our dataset (numeric versus categorical). We can also use the \".isna().sum()\" chain to determine if and where missing values exist. \n",
    "\n"
   ]
  },
  {
   "cell_type": "code",
   "execution_count": 4,
   "id": "5050963a",
   "metadata": {},
   "outputs": [
    {
     "name": "stdout",
     "output_type": "stream",
     "text": [
      "<class 'pandas.core.frame.DataFrame'>\n",
      "RangeIndex: 27379 entries, 0 to 27378\n",
      "Data columns (total 11 columns):\n",
      " #   Column                          Non-Null Count  Dtype  \n",
      "---  ------                          --------------  -----  \n",
      " 0   neighbourhood_group             27379 non-null  object \n",
      " 1   neighbourhood                   27379 non-null  object \n",
      " 2   latitude                        27379 non-null  float64\n",
      " 3   longitude                       27379 non-null  float64\n",
      " 4   room_type                       27379 non-null  object \n",
      " 5   price                           27379 non-null  int64  \n",
      " 6   minimum_nights                  27379 non-null  int64  \n",
      " 7   number_of_reviews               27379 non-null  int64  \n",
      " 8   reviews_per_month               21746 non-null  float64\n",
      " 9   calculated_host_listings_count  27379 non-null  int64  \n",
      " 10  availability_365                27379 non-null  int64  \n",
      "dtypes: float64(3), int64(5), object(3)\n",
      "memory usage: 2.3+ MB\n",
      "\n",
      "\n",
      "\n"
     ]
    },
    {
     "data": {
      "text/plain": [
       "neighbourhood_group                  0\n",
       "neighbourhood                        0\n",
       "latitude                             0\n",
       "longitude                            0\n",
       "room_type                            0\n",
       "price                                0\n",
       "minimum_nights                       0\n",
       "number_of_reviews                    0\n",
       "reviews_per_month                 5633\n",
       "calculated_host_listings_count       0\n",
       "availability_365                     0\n",
       "dtype: int64"
      ]
     },
     "execution_count": 4,
     "metadata": {},
     "output_type": "execute_result"
    }
   ],
   "source": [
    "dataset.info()\n",
    "print(\"\\n\\n\")\n",
    "dataset.isna().sum()"
   ]
  },
  {
   "cell_type": "markdown",
   "id": "1925b9ac",
   "metadata": {},
   "source": [
    "# Dropping the null values & the Object Type attributes \n",
    "\n",
    "This code uses the .isnull() function to check for missing values in the dataframe. It is important to check for missing values before building the model as they can cause errors or lead to poor model performance. The .sum() function is used to count the number of missing values in each column.\n",
    "\n",
    "The output will be a list of integers, representing the number of missing values in each column. If any of the columns have missing values, it could be handled by dropping the observations containing missing values, imputing the missing values or using algorithms that can handle missing values.\n",
    "\n",
    "The output will show the number of missing values in each column of the dataframe, after the removal of any rows with missing values. If all the values are zero, it means that there are no missing values in the dataframe. If there are any non-zero values, it means that there are missing values in the dataframe."
   ]
  },
  {
   "cell_type": "code",
   "execution_count": 5,
   "id": "36b7d43e",
   "metadata": {},
   "outputs": [],
   "source": [
    "dataset = dataset.dropna()"
   ]
  },
  {
   "cell_type": "code",
   "execution_count": 6,
   "id": "4c2b1170",
   "metadata": {},
   "outputs": [
    {
     "data": {
      "text/html": [
       "<div>\n",
       "<style scoped>\n",
       "    .dataframe tbody tr th:only-of-type {\n",
       "        vertical-align: middle;\n",
       "    }\n",
       "\n",
       "    .dataframe tbody tr th {\n",
       "        vertical-align: top;\n",
       "    }\n",
       "\n",
       "    .dataframe thead th {\n",
       "        text-align: right;\n",
       "    }\n",
       "</style>\n",
       "<table border=\"1\" class=\"dataframe\">\n",
       "  <thead>\n",
       "    <tr style=\"text-align: right;\">\n",
       "      <th></th>\n",
       "      <th>latitude</th>\n",
       "      <th>longitude</th>\n",
       "      <th>price</th>\n",
       "      <th>minimum_nights</th>\n",
       "      <th>number_of_reviews</th>\n",
       "      <th>reviews_per_month</th>\n",
       "      <th>calculated_host_listings_count</th>\n",
       "      <th>availability_365</th>\n",
       "    </tr>\n",
       "  </thead>\n",
       "  <tbody>\n",
       "    <tr>\n",
       "      <th>0</th>\n",
       "      <td>40.69591</td>\n",
       "      <td>-73.96284</td>\n",
       "      <td>58.0</td>\n",
       "      <td>2.0</td>\n",
       "      <td>1.0</td>\n",
       "      <td>0.10</td>\n",
       "      <td>1.0</td>\n",
       "      <td>0.0</td>\n",
       "    </tr>\n",
       "    <tr>\n",
       "      <th>1</th>\n",
       "      <td>40.68769</td>\n",
       "      <td>-73.97490</td>\n",
       "      <td>99.0</td>\n",
       "      <td>5.0</td>\n",
       "      <td>4.0</td>\n",
       "      <td>0.17</td>\n",
       "      <td>1.0</td>\n",
       "      <td>250.0</td>\n",
       "    </tr>\n",
       "    <tr>\n",
       "      <th>2</th>\n",
       "      <td>40.67667</td>\n",
       "      <td>-73.91750</td>\n",
       "      <td>180.0</td>\n",
       "      <td>2.0</td>\n",
       "      <td>126.0</td>\n",
       "      <td>3.74</td>\n",
       "      <td>1.0</td>\n",
       "      <td>74.0</td>\n",
       "    </tr>\n",
       "    <tr>\n",
       "      <th>3</th>\n",
       "      <td>40.74340</td>\n",
       "      <td>-73.90588</td>\n",
       "      <td>50.0</td>\n",
       "      <td>1.0</td>\n",
       "      <td>95.0</td>\n",
       "      <td>5.63</td>\n",
       "      <td>2.0</td>\n",
       "      <td>0.0</td>\n",
       "    </tr>\n",
       "    <tr>\n",
       "      <th>4</th>\n",
       "      <td>40.66600</td>\n",
       "      <td>-73.99020</td>\n",
       "      <td>210.0</td>\n",
       "      <td>4.0</td>\n",
       "      <td>88.0</td>\n",
       "      <td>4.41</td>\n",
       "      <td>1.0</td>\n",
       "      <td>20.0</td>\n",
       "    </tr>\n",
       "  </tbody>\n",
       "</table>\n",
       "</div>"
      ],
      "text/plain": [
       "   latitude  longitude  price  minimum_nights  number_of_reviews  \\\n",
       "0  40.69591  -73.96284   58.0             2.0                1.0   \n",
       "1  40.68769  -73.97490   99.0             5.0                4.0   \n",
       "2  40.67667  -73.91750  180.0             2.0              126.0   \n",
       "3  40.74340  -73.90588   50.0             1.0               95.0   \n",
       "4  40.66600  -73.99020  210.0             4.0               88.0   \n",
       "\n",
       "   reviews_per_month  calculated_host_listings_count  availability_365  \n",
       "0               0.10                             1.0               0.0  \n",
       "1               0.17                             1.0             250.0  \n",
       "2               3.74                             1.0              74.0  \n",
       "3               5.63                             2.0               0.0  \n",
       "4               4.41                             1.0              20.0  "
      ]
     },
     "execution_count": 6,
     "metadata": {},
     "output_type": "execute_result"
    }
   ],
   "source": [
    "dataset['price'] = dataset['price'].astype('float64')\n",
    "dataset['minimum_nights'] = dataset['minimum_nights'].astype('float64')\n",
    "dataset['number_of_reviews'] = dataset['number_of_reviews'].astype('float64')\n",
    "dataset['reviews_per_month'] = dataset['reviews_per_month'].astype('float64')\n",
    "dataset['calculated_host_listings_count'] = dataset['calculated_host_listings_count'].astype('float64')\n",
    "dataset['availability_365'] = dataset['availability_365'].astype('float64')\n",
    "\n",
    "dataset = dataset.select_dtypes(exclude=['object'])\n",
    "dataset.head()"
   ]
  },
  {
   "cell_type": "code",
   "execution_count": 7,
   "id": "55f7c49d",
   "metadata": {},
   "outputs": [
    {
     "name": "stdout",
     "output_type": "stream",
     "text": [
      "<class 'pandas.core.frame.DataFrame'>\n",
      "Int64Index: 21746 entries, 0 to 27378\n",
      "Data columns (total 8 columns):\n",
      " #   Column                          Non-Null Count  Dtype  \n",
      "---  ------                          --------------  -----  \n",
      " 0   latitude                        21746 non-null  float64\n",
      " 1   longitude                       21746 non-null  float64\n",
      " 2   price                           21746 non-null  float64\n",
      " 3   minimum_nights                  21746 non-null  float64\n",
      " 4   number_of_reviews               21746 non-null  float64\n",
      " 5   reviews_per_month               21746 non-null  float64\n",
      " 6   calculated_host_listings_count  21746 non-null  float64\n",
      " 7   availability_365                21746 non-null  float64\n",
      "dtypes: float64(8)\n",
      "memory usage: 1.5 MB\n",
      "\n",
      "\n",
      "\n"
     ]
    },
    {
     "data": {
      "text/plain": [
       "latitude                          0\n",
       "longitude                         0\n",
       "price                             0\n",
       "minimum_nights                    0\n",
       "number_of_reviews                 0\n",
       "reviews_per_month                 0\n",
       "calculated_host_listings_count    0\n",
       "availability_365                  0\n",
       "dtype: int64"
      ]
     },
     "execution_count": 7,
     "metadata": {},
     "output_type": "execute_result"
    }
   ],
   "source": [
    "dataset.info()\n",
    "print(\"\\n\\n\")\n",
    "dataset.isna().sum()"
   ]
  },
  {
   "cell_type": "markdown",
   "id": "9892e2d7",
   "metadata": {},
   "source": [
    "### Here we see that our objects have been converted to int datatypes and the null values have een dropped. We can move forward now."
   ]
  },
  {
   "cell_type": "code",
   "execution_count": 8,
   "id": "16c96c66",
   "metadata": {},
   "outputs": [
    {
     "data": {
      "text/html": [
       "<div>\n",
       "<style scoped>\n",
       "    .dataframe tbody tr th:only-of-type {\n",
       "        vertical-align: middle;\n",
       "    }\n",
       "\n",
       "    .dataframe tbody tr th {\n",
       "        vertical-align: top;\n",
       "    }\n",
       "\n",
       "    .dataframe thead th {\n",
       "        text-align: right;\n",
       "    }\n",
       "</style>\n",
       "<table border=\"1\" class=\"dataframe\">\n",
       "  <thead>\n",
       "    <tr style=\"text-align: right;\">\n",
       "      <th></th>\n",
       "      <th>latitude</th>\n",
       "      <th>longitude</th>\n",
       "      <th>price</th>\n",
       "      <th>minimum_nights</th>\n",
       "      <th>number_of_reviews</th>\n",
       "      <th>reviews_per_month</th>\n",
       "      <th>calculated_host_listings_count</th>\n",
       "      <th>availability_365</th>\n",
       "    </tr>\n",
       "  </thead>\n",
       "  <tbody>\n",
       "    <tr>\n",
       "      <th>0</th>\n",
       "      <td>40.69591</td>\n",
       "      <td>-73.96284</td>\n",
       "      <td>58.0</td>\n",
       "      <td>2.0</td>\n",
       "      <td>1.0</td>\n",
       "      <td>0.10</td>\n",
       "      <td>1.0</td>\n",
       "      <td>0.0</td>\n",
       "    </tr>\n",
       "    <tr>\n",
       "      <th>1</th>\n",
       "      <td>40.68769</td>\n",
       "      <td>-73.97490</td>\n",
       "      <td>99.0</td>\n",
       "      <td>5.0</td>\n",
       "      <td>4.0</td>\n",
       "      <td>0.17</td>\n",
       "      <td>1.0</td>\n",
       "      <td>250.0</td>\n",
       "    </tr>\n",
       "    <tr>\n",
       "      <th>2</th>\n",
       "      <td>40.67667</td>\n",
       "      <td>-73.91750</td>\n",
       "      <td>180.0</td>\n",
       "      <td>2.0</td>\n",
       "      <td>126.0</td>\n",
       "      <td>3.74</td>\n",
       "      <td>1.0</td>\n",
       "      <td>74.0</td>\n",
       "    </tr>\n",
       "    <tr>\n",
       "      <th>3</th>\n",
       "      <td>40.74340</td>\n",
       "      <td>-73.90588</td>\n",
       "      <td>50.0</td>\n",
       "      <td>1.0</td>\n",
       "      <td>95.0</td>\n",
       "      <td>5.63</td>\n",
       "      <td>2.0</td>\n",
       "      <td>0.0</td>\n",
       "    </tr>\n",
       "    <tr>\n",
       "      <th>4</th>\n",
       "      <td>40.66600</td>\n",
       "      <td>-73.99020</td>\n",
       "      <td>210.0</td>\n",
       "      <td>4.0</td>\n",
       "      <td>88.0</td>\n",
       "      <td>4.41</td>\n",
       "      <td>1.0</td>\n",
       "      <td>20.0</td>\n",
       "    </tr>\n",
       "  </tbody>\n",
       "</table>\n",
       "</div>"
      ],
      "text/plain": [
       "   latitude  longitude  price  minimum_nights  number_of_reviews  \\\n",
       "0  40.69591  -73.96284   58.0             2.0                1.0   \n",
       "1  40.68769  -73.97490   99.0             5.0                4.0   \n",
       "2  40.67667  -73.91750  180.0             2.0              126.0   \n",
       "3  40.74340  -73.90588   50.0             1.0               95.0   \n",
       "4  40.66600  -73.99020  210.0             4.0               88.0   \n",
       "\n",
       "   reviews_per_month  calculated_host_listings_count  availability_365  \n",
       "0               0.10                             1.0               0.0  \n",
       "1               0.17                             1.0             250.0  \n",
       "2               3.74                             1.0              74.0  \n",
       "3               5.63                             2.0               0.0  \n",
       "4               4.41                             1.0              20.0  "
      ]
     },
     "execution_count": 8,
     "metadata": {},
     "output_type": "execute_result"
    }
   ],
   "source": [
    "dataset.head()"
   ]
  },
  {
   "cell_type": "markdown",
   "id": "bf03b9ae",
   "metadata": {},
   "source": [
    "## Putting \"price\" attribute in the end of the dateset for splitting."
   ]
  },
  {
   "cell_type": "code",
   "execution_count": 9,
   "id": "da5d6c75",
   "metadata": {},
   "outputs": [],
   "source": [
    "price = dataset['price']\n",
    "dataset.drop(labels = ['price'], axis=1, inplace=True)"
   ]
  },
  {
   "cell_type": "code",
   "execution_count": 10,
   "id": "a3f1fb0b",
   "metadata": {},
   "outputs": [
    {
     "data": {
      "text/html": [
       "<div>\n",
       "<style scoped>\n",
       "    .dataframe tbody tr th:only-of-type {\n",
       "        vertical-align: middle;\n",
       "    }\n",
       "\n",
       "    .dataframe tbody tr th {\n",
       "        vertical-align: top;\n",
       "    }\n",
       "\n",
       "    .dataframe thead th {\n",
       "        text-align: right;\n",
       "    }\n",
       "</style>\n",
       "<table border=\"1\" class=\"dataframe\">\n",
       "  <thead>\n",
       "    <tr style=\"text-align: right;\">\n",
       "      <th></th>\n",
       "      <th>latitude</th>\n",
       "      <th>longitude</th>\n",
       "      <th>minimum_nights</th>\n",
       "      <th>number_of_reviews</th>\n",
       "      <th>reviews_per_month</th>\n",
       "      <th>calculated_host_listings_count</th>\n",
       "      <th>availability_365</th>\n",
       "      <th>price</th>\n",
       "    </tr>\n",
       "  </thead>\n",
       "  <tbody>\n",
       "    <tr>\n",
       "      <th>0</th>\n",
       "      <td>40.69591</td>\n",
       "      <td>-73.96284</td>\n",
       "      <td>2.0</td>\n",
       "      <td>1.0</td>\n",
       "      <td>0.10</td>\n",
       "      <td>1.0</td>\n",
       "      <td>0.0</td>\n",
       "      <td>58.0</td>\n",
       "    </tr>\n",
       "    <tr>\n",
       "      <th>1</th>\n",
       "      <td>40.68769</td>\n",
       "      <td>-73.97490</td>\n",
       "      <td>5.0</td>\n",
       "      <td>4.0</td>\n",
       "      <td>0.17</td>\n",
       "      <td>1.0</td>\n",
       "      <td>250.0</td>\n",
       "      <td>99.0</td>\n",
       "    </tr>\n",
       "    <tr>\n",
       "      <th>2</th>\n",
       "      <td>40.67667</td>\n",
       "      <td>-73.91750</td>\n",
       "      <td>2.0</td>\n",
       "      <td>126.0</td>\n",
       "      <td>3.74</td>\n",
       "      <td>1.0</td>\n",
       "      <td>74.0</td>\n",
       "      <td>180.0</td>\n",
       "    </tr>\n",
       "    <tr>\n",
       "      <th>3</th>\n",
       "      <td>40.74340</td>\n",
       "      <td>-73.90588</td>\n",
       "      <td>1.0</td>\n",
       "      <td>95.0</td>\n",
       "      <td>5.63</td>\n",
       "      <td>2.0</td>\n",
       "      <td>0.0</td>\n",
       "      <td>50.0</td>\n",
       "    </tr>\n",
       "    <tr>\n",
       "      <th>4</th>\n",
       "      <td>40.66600</td>\n",
       "      <td>-73.99020</td>\n",
       "      <td>4.0</td>\n",
       "      <td>88.0</td>\n",
       "      <td>4.41</td>\n",
       "      <td>1.0</td>\n",
       "      <td>20.0</td>\n",
       "      <td>210.0</td>\n",
       "    </tr>\n",
       "  </tbody>\n",
       "</table>\n",
       "</div>"
      ],
      "text/plain": [
       "   latitude  longitude  minimum_nights  number_of_reviews  reviews_per_month  \\\n",
       "0  40.69591  -73.96284             2.0                1.0               0.10   \n",
       "1  40.68769  -73.97490             5.0                4.0               0.17   \n",
       "2  40.67667  -73.91750             2.0              126.0               3.74   \n",
       "3  40.74340  -73.90588             1.0               95.0               5.63   \n",
       "4  40.66600  -73.99020             4.0               88.0               4.41   \n",
       "\n",
       "   calculated_host_listings_count  availability_365  price  \n",
       "0                             1.0               0.0   58.0  \n",
       "1                             1.0             250.0   99.0  \n",
       "2                             1.0              74.0  180.0  \n",
       "3                             2.0               0.0   50.0  \n",
       "4                             1.0              20.0  210.0  "
      ]
     },
     "execution_count": 10,
     "metadata": {},
     "output_type": "execute_result"
    }
   ],
   "source": [
    "dataset['price'] = price\n",
    "\n",
    "dataset = dataset[(dataset['price'] > 0) & (dataset['price'] <= 300)]\n",
    "dataset.head()"
   ]
  },
  {
   "cell_type": "markdown",
   "id": "1a3ba74f",
   "metadata": {},
   "source": [
    "# Data Visualization"
   ]
  },
  {
   "cell_type": "code",
   "execution_count": 11,
   "id": "4d5495c5",
   "metadata": {},
   "outputs": [
    {
     "data": {
      "image/png": "[encoded data removed]",
      "text/plain": [
       "<Figure size 432x288 with 1 Axes>"
      ]
     },
     "metadata": {
      "needs_background": "light"
     },
     "output_type": "display_data"
    }
   ],
   "source": [
    "from matplotlib import pyplot as plt\n",
    "\n",
    "price = dataset['price'].head()\n",
    "minimum_nights = dataset['minimum_nights'].head()\n",
    "number_of_reviews = dataset['number_of_reviews'].head()\n",
    "availability_365 = dataset['availability_365'].head()\n",
    "\n",
    "plt.plot(price, minimum_nights)\n",
    "plt.plot(price, number_of_reviews)\n",
    "plt.plot(price, availability_365)\n",
    "\n",
    "plt.show()"
   ]
  },
  {
   "cell_type": "markdown",
   "id": "7d794fd3",
   "metadata": {},
   "source": [
    "This code uses the boxplot to check for outliers in the 'price' feature of the dataframe. It is important to check for outliers before building the model as they can cause errors or lead to poor model performance. The boxplot is a standardized way of displaying the distribution of data based on five number summary (\"minimum\", first quartile (Q1), median, third quartile (Q3), and \"maximum\")."
   ]
  },
  {
   "cell_type": "code",
   "execution_count": 12,
   "id": "0eaf2f37",
   "metadata": {},
   "outputs": [
    {
     "data": {
      "image/png": "[encoded data removed]",
      "text/plain": [
       "<Figure size 432x288 with 1 Axes>"
      ]
     },
     "metadata": {
      "needs_background": "light"
     },
     "output_type": "display_data"
    }
   ],
   "source": [
    "plt.bar(range(len(price)), price)\n",
    "plt.show()"
   ]
  },
  {
   "cell_type": "markdown",
   "id": "88270dd8",
   "metadata": {},
   "source": [
    "The output will be a histogram showing the distribution of the 'price' feature in the dataframe. A histogram is a way to visualize the distribution of a continuous variable. If the data is normally distributed, it will be symmetric and bell-shaped. If the data is skewed, the histogram will be skewed either to the left or to the right. A left skewed histogram means that the data has a long tail on the left side and most of the data points are on the right side. A right skewed histogram means that the data has a long tail on the right side and most of the data points are on the left side."
   ]
  },
  {
   "cell_type": "code",
   "execution_count": 13,
   "id": "f391387c",
   "metadata": {},
   "outputs": [
    {
     "data": {
      "image/png": "[encoded data removed]",
      "text/plain": [
       "<Figure size 432x288 with 1 Axes>"
      ]
     },
     "metadata": {
      "needs_background": "light"
     },
     "output_type": "display_data"
    },
    {
     "data": {
      "image/png": "[encoded data removed]",
      "text/plain": [
       "<Figure size 432x288 with 1 Axes>"
      ]
     },
     "metadata": {
      "needs_background": "light"
     },
     "output_type": "display_data"
    },
    {
     "data": {
      "image/png": "[encoded data removed]",
      "text/plain": [
       "<Figure size 720x360 with 1 Axes>"
      ]
     },
     "metadata": {
      "needs_background": "light"
     },
     "output_type": "display_data"
    }
   ],
   "source": [
    "plt.scatter(price,minimum_nights)\n",
    "plt.xlabel('Price')\n",
    "plt.ylabel('minimum nights')\n",
    "plt.show()\n",
    "\n",
    "plt.scatter(price,minimum_nights)\n",
    "plt.xlabel('Price')\n",
    "plt.ylabel('number_of_reviews')\n",
    "plt.show()\n",
    "\n",
    "plt.figure(figsize=(10, 5))\n",
    "plt.scatter(dataset['availability_365'], dataset['price'])\n",
    "plt.xlabel('availability_365')\n",
    "plt.ylabel('Price')\n",
    "plt.show()"
   ]
  },
  {
   "cell_type": "markdown",
   "id": "0cd7b423",
   "metadata": {},
   "source": [
    "The output will be a scatter plot showing the relationship between availability_365 and price. Each point on the plot represents a listing in the data, with the x-coordinate representing the availability_365 of the listing and the y-coordinate representing the price of the listing. The plot can be used to identify any patterns or outliers in the data, and to understand how availability_365 might be related to price.\n",
    "\n",
    "This code uses the scatter() function from matplotlib library to visualize the relationship between the minimum_nights feature and the price feature. This helps in understanding how the minimum nights required for a booking (measured by minimum_nights) might be related to the price of the listing. This can be useful in identifying any patterns or outliers in the data and in understanding which features are important in predicting the target variable."
   ]
  },
  {
   "cell_type": "code",
   "execution_count": 14,
   "id": "73307f31",
   "metadata": {},
   "outputs": [],
   "source": [
    "from sklearn.metrics import mean_squared_error, r2_score,mean_squared_error,mean_absolute_error\n",
    "from sklearn.preprocessing import StandardScaler\n",
    "import statsmodels.api as sm"
   ]
  },
  {
   "cell_type": "markdown",
   "id": "2727d19d",
   "metadata": {},
   "source": [
    "# MODEL CONSTRUCTION"
   ]
  },
  {
   "cell_type": "markdown",
   "id": "f9a4c10b",
   "metadata": {},
   "source": [
    "In this section, we will construct a linear model to predict the target variable based on the available predictor variables in our dataset. Our goal is to build a model that accurately predicts the target variable while being as simple as possible. We will use the Linear Regression model from the scikit-learn library to perform our modeling. Linear regression uses the relationship between the data-points to draw a straight line through all them. This line can be used to predict future values."
   ]
  },
  {
   "cell_type": "markdown",
   "id": "66c3df3e",
   "metadata": {},
   "source": [
    "The code is used to standardize the data by transforming it such that it has a mean of 0 and a standard deviation of 1. This is done to ensure that all features are on the same scale, which can improve the performance of the model."
   ]
  },
  {
   "cell_type": "code",
   "execution_count": 15,
   "id": "15436628",
   "metadata": {},
   "outputs": [
    {
     "data": {
      "text/html": [
       "<div>\n",
       "<style scoped>\n",
       "    .dataframe tbody tr th:only-of-type {\n",
       "        vertical-align: middle;\n",
       "    }\n",
       "\n",
       "    .dataframe tbody tr th {\n",
       "        vertical-align: top;\n",
       "    }\n",
       "\n",
       "    .dataframe thead th {\n",
       "        text-align: right;\n",
       "    }\n",
       "</style>\n",
       "<table border=\"1\" class=\"dataframe\">\n",
       "  <thead>\n",
       "    <tr style=\"text-align: right;\">\n",
       "      <th></th>\n",
       "      <th>latitude</th>\n",
       "      <th>longitude</th>\n",
       "      <th>minimum_nights</th>\n",
       "      <th>number_of_reviews</th>\n",
       "      <th>reviews_per_month</th>\n",
       "      <th>calculated_host_listings_count</th>\n",
       "      <th>availability_365</th>\n",
       "      <th>price</th>\n",
       "    </tr>\n",
       "  </thead>\n",
       "  <tbody>\n",
       "    <tr>\n",
       "      <th>0</th>\n",
       "      <td>-0.565410</td>\n",
       "      <td>-0.274633</td>\n",
       "      <td>-0.218171</td>\n",
       "      <td>-0.593208</td>\n",
       "      <td>-0.745168</td>\n",
       "      <td>-0.156288</td>\n",
       "      <td>-0.866485</td>\n",
       "      <td>-0.914359</td>\n",
       "    </tr>\n",
       "    <tr>\n",
       "      <th>1</th>\n",
       "      <td>-0.712441</td>\n",
       "      <td>-0.530419</td>\n",
       "      <td>-0.053413</td>\n",
       "      <td>-0.531315</td>\n",
       "      <td>-0.704704</td>\n",
       "      <td>-0.156288</td>\n",
       "      <td>1.071926</td>\n",
       "      <td>-0.275873</td>\n",
       "    </tr>\n",
       "    <tr>\n",
       "      <th>2</th>\n",
       "      <td>-0.909554</td>\n",
       "      <td>0.687001</td>\n",
       "      <td>-0.218171</td>\n",
       "      <td>1.985677</td>\n",
       "      <td>1.358936</td>\n",
       "      <td>-0.156288</td>\n",
       "      <td>-0.292715</td>\n",
       "      <td>0.985528</td>\n",
       "    </tr>\n",
       "    <tr>\n",
       "      <th>3</th>\n",
       "      <td>0.284040</td>\n",
       "      <td>0.933455</td>\n",
       "      <td>-0.273090</td>\n",
       "      <td>1.346113</td>\n",
       "      <td>2.451452</td>\n",
       "      <td>-0.115991</td>\n",
       "      <td>-0.866485</td>\n",
       "      <td>-1.038942</td>\n",
       "    </tr>\n",
       "    <tr>\n",
       "      <th>4</th>\n",
       "      <td>-1.100408</td>\n",
       "      <td>-0.854923</td>\n",
       "      <td>-0.108332</td>\n",
       "      <td>1.201696</td>\n",
       "      <td>1.746230</td>\n",
       "      <td>-0.156288</td>\n",
       "      <td>-0.711412</td>\n",
       "      <td>1.452713</td>\n",
       "    </tr>\n",
       "  </tbody>\n",
       "</table>\n",
       "</div>"
      ],
      "text/plain": [
       "   latitude  longitude  minimum_nights  number_of_reviews  reviews_per_month  \\\n",
       "0 -0.565410  -0.274633       -0.218171          -0.593208          -0.745168   \n",
       "1 -0.712441  -0.530419       -0.053413          -0.531315          -0.704704   \n",
       "2 -0.909554   0.687001       -0.218171           1.985677           1.358936   \n",
       "3  0.284040   0.933455       -0.273090           1.346113           2.451452   \n",
       "4 -1.100408  -0.854923       -0.108332           1.201696           1.746230   \n",
       "\n",
       "   calculated_host_listings_count  availability_365     price  \n",
       "0                       -0.156288         -0.866485 -0.914359  \n",
       "1                       -0.156288          1.071926 -0.275873  \n",
       "2                       -0.156288         -0.292715  0.985528  \n",
       "3                       -0.115991         -0.866485 -1.038942  \n",
       "4                       -0.156288         -0.711412  1.452713  "
      ]
     },
     "execution_count": 15,
     "metadata": {},
     "output_type": "execute_result"
    }
   ],
   "source": [
    "scaler = StandardScaler()\n",
    "df_scaled = scaler.fit_transform(dataset)\n",
    "df_scaled = pd.DataFrame(df_scaled, columns=dataset.columns)\n",
    "df_scaled_updated = df_scaled.drop(['price'], axis=1)\n",
    "df_scaled.head()"
   ]
  },
  {
   "cell_type": "markdown",
   "id": "9a27055d",
   "metadata": {},
   "source": [
    "The output will be a new dataframe containing the standardized values of each column in the original dataframe. This new dataframe will have a mean of 0 and a standard deviation of 1 for each column. The 'price' column is dropped from the final dataframe as it is the target variable."
   ]
  },
  {
   "cell_type": "markdown",
   "id": "080bedd8",
   "metadata": {},
   "source": [
    "Since we've noticed that most properties are priced at a reasonable rate (less than $200 per night), but there are a few which are priced extremely high, we may want to work with the logarithm of price rather than the raw price."
   ]
  },
  {
   "cell_type": "markdown",
   "id": "c64d2fee",
   "metadata": {},
   "source": [
    "This code is used to evaluate the performance of the linear regression model. The mean squared error (MSE) and coefficient of determination (R^2) are two common metrics used to evaluate regression models. The MSE measures the average of the squares of the errors (prediction errors) made by the model, while the R^2 score is a measure of how well the model fits the data."
   ]
  },
  {
   "cell_type": "markdown",
   "id": "ac2db908",
   "metadata": {},
   "source": [
    "## INFORMATION ABOUT TEST AND TRAIN DATA"
   ]
  },
  {
   "cell_type": "markdown",
   "id": "787c621a",
   "metadata": {},
   "source": [
    "To split the dataframe into 2 sets, X_train and X_test for the purpose of training, testing and validating the model. Splitting the data into different sets helps to prevent overfitting and allows for a more accurate evaluation of the model's performance."
   ]
  },
  {
   "cell_type": "code",
   "execution_count": 16,
   "id": "5b898413",
   "metadata": {},
   "outputs": [],
   "source": [
    "X_train, X_test, y_train, y_test = train_test_split(df_scaled_updated, df_scaled['price'], test_size=0.2, random_state=42)"
   ]
  },
  {
   "cell_type": "code",
   "execution_count": 17,
   "id": "4632a460",
   "metadata": {},
   "outputs": [
    {
     "name": "stdout",
     "output_type": "stream",
     "text": [
      "X_train shape:  (16420, 7)\n",
      "X_test shape:  (4105, 7)\n",
      "X_train columns:  Index(['latitude', 'longitude', 'minimum_nights', 'number_of_reviews',\n",
      "       'reviews_per_month', 'calculated_host_listings_count',\n",
      "       'availability_365'],\n",
      "      dtype='object')\n",
      "y_train columns:  price\n"
     ]
    }
   ],
   "source": [
    "# Print test and train set shapes\n",
    "print(\"X_train shape: \", X_train.shape)\n",
    "print(\"X_test shape: \", X_test.shape)\n",
    "\n",
    "# Print X and y columns\n",
    "print(\"X_train columns: \", X_train.columns)\n",
    "print(\"y_train columns: \", y_train.name)"
   ]
  },
  {
   "cell_type": "markdown",
   "id": "7e9847a4",
   "metadata": {},
   "source": [
    "The output will be four variables: X_train, X_test, y_train and y_test, which correspond to the features and the label for the respective sets for training and testing. X_safe is the validation set. This code will split the data into 80% training and 20% testing."
   ]
  },
  {
   "cell_type": "markdown",
   "id": "793569ed",
   "metadata": {},
   "source": [
    "# LINEAR REGRESSION MODEL"
   ]
  },
  {
   "cell_type": "markdown",
   "id": "dea4181a",
   "metadata": {},
   "source": [
    "To train a Linear Regression model on the dataset, which will be used to predict the target variable (price) based on the other features."
   ]
  },
  {
   "cell_type": "markdown",
   "id": "a6e519d3",
   "metadata": {},
   "source": [
    "The output of this code will be the values of the MSE and R^2 score for the linear regression model. The MSE value represents the average of the squared errors made by the model, while the R^2 score is a measure of how well the model fits the data. A low MSE value and a high R^2 score indicate a better model fit and more accurate predictions."
   ]
  },
  {
   "cell_type": "code",
   "execution_count": 18,
   "id": "0fd36072",
   "metadata": {},
   "outputs": [],
   "source": [
    "lr = linear_model.LinearRegression()\n",
    "lr.fit(X_train, y_train)\n",
    "y_pred = lr.predict(X_test)"
   ]
  },
  {
   "cell_type": "markdown",
   "id": "6359b77b",
   "metadata": {},
   "source": [
    "# Mean squared error\n",
    "\n",
    "Mean squared error (MSE): measures the average squared difference between the predicted and actual values. It gives an idea of how well the model fits the data."
   ]
  },
  {
   "cell_type": "code",
   "execution_count": 19,
   "id": "5b448aba",
   "metadata": {},
   "outputs": [
    {
     "name": "stdout",
     "output_type": "stream",
     "text": [
      "Mean squared error: 0.88\n",
      "Coefficient of determination: 0.12\n"
     ]
    }
   ],
   "source": [
    "print(\"Mean squared error: %.2f\" % mean_squared_error(y_test, y_pred))\n",
    "print(\"Coefficient of determination: %.2f\" % r2_score(y_test, y_pred))"
   ]
  },
  {
   "cell_type": "markdown",
   "id": "7adef562",
   "metadata": {},
   "source": [
    "# Root mean squared error\n",
    "\n",
    "Root mean squared error (RMSE): the square root of the mean squared error. It is in the same units as the target variable and gives an idea of the average difference between predicted and actual values."
   ]
  },
  {
   "cell_type": "code",
   "execution_count": 20,
   "id": "c377df05",
   "metadata": {},
   "outputs": [
    {
     "name": "stdout",
     "output_type": "stream",
     "text": [
      "Root Mean squared error: 0.94\n"
     ]
    }
   ],
   "source": [
    "# RMSE \n",
    "\n",
    "rmse = mean_squared_error(y_test, y_pred, squared=False)\n",
    "print(\"Root Mean squared error: %.2f\" %rmse)"
   ]
  },
  {
   "cell_type": "markdown",
   "id": "6e522027",
   "metadata": {},
   "source": [
    "# Mean Absolute Error \n",
    "\n",
    "Mean absolute error (MAE): measures the average absolute difference between the predicted and actual values. It is less sensitive to outliers than the mean squared error."
   ]
  },
  {
   "cell_type": "code",
   "execution_count": 21,
   "id": "c167c6c8",
   "metadata": {},
   "outputs": [
    {
     "name": "stdout",
     "output_type": "stream",
     "text": [
      "Mean Absolute Error:  0.7505955114092417\n"
     ]
    }
   ],
   "source": [
    "mae = mean_absolute_error(y_test, y_pred)\n",
    "print('Mean Absolute Error: ', mae)"
   ]
  },
  {
   "cell_type": "markdown",
   "id": "1a1b9237",
   "metadata": {},
   "source": [
    "# CORRELATION\n",
    "\n",
    "Correlation is a statistical measure that indicates the degree of association between two variables. In the context of linear regression, correlation is often used to measure the strength and direction of the relationship between the independent variable (or predictor variable) and the dependent variable (or response variable).\n",
    "\n",
    "In particular, the correlation coefficient is a numerical measure that ranges from -1 to 1, with a value of 0 indicating no correlation, a value of 1 indicating a perfect positive correlation (meaning the two variables increase or decrease together), and a value of -1 indicating a perfect negative correlation (meaning the two variables move in opposite directions).\n",
    "\n",
    "When building a linear regression model, it is important to consider the correlation between the independent and dependent variables, as a high degree of correlation can indicate potential problems such as multicollinearity or overfitting. It is also important to note that correlation does not imply causation, and further analysis and interpretation is needed to determine the nature of the relationship between the variables."
   ]
  },
  {
   "cell_type": "markdown",
   "id": "0256cdd7",
   "metadata": {},
   "source": [
    "# The result array represents the coefficient values of All columns.\n",
    "\n",
    "That means, if the value of the particular columns increase by \"1\". The price attribute will be effected by the value given above.\n",
    "\n",
    "The output will show the coefficients and intercept of the trained Linear Regression model. The coefficients represent the relationship between each feature and the target variable, and the intercept is the point at which the regression line intersects the y-axis when all feature values are zero. These values can be used to understand the relationship between features and target variable and make predictions based on new data."
   ]
  },
  {
   "cell_type": "code",
   "execution_count": 22,
   "id": "6007fd2a",
   "metadata": {},
   "outputs": [
    {
     "name": "stdout",
     "output_type": "stream",
     "text": [
      "Coefficients:  [ 0.08195221 -0.3108597  -0.01270402 -0.00782292 -0.00309677  0.08825997\n",
      "  0.06081593]\n",
      "Intercept:  0.000967593648273085\n"
     ]
    }
   ],
   "source": [
    "# Print the coefficients\n",
    "\n",
    "print(\"Coefficients: \", lr.coef_)\n",
    "print(\"Intercept: \", lr.intercept_)"
   ]
  },
  {
   "cell_type": "markdown",
   "id": "4d7ffbfb",
   "metadata": {},
   "source": [
    "# Cross-validation on the linear regression model"
   ]
  },
  {
   "cell_type": "code",
   "execution_count": 23,
   "id": "997874b5",
   "metadata": {},
   "outputs": [
    {
     "name": "stdout",
     "output_type": "stream",
     "text": [
      "Cross-validation scores:  [0.1332078  0.08920125 0.1150291  0.10965521 0.10689729]\n",
      "Average R2 score:  0.1107981293503737\n"
     ]
    }
   ],
   "source": [
    "from sklearn.model_selection import cross_val_score\n",
    "\n",
    "# Create a new linear regression model\n",
    "a = linear_model.LinearRegression()\n",
    "\n",
    "# Perform 5-fold cross-validation\n",
    "scores = cross_val_score(a, X_train, y_train, cv=5, scoring='r2')\n",
    "\n",
    "# Print the cross-validation scores\n",
    "print(\"Cross-validation scores: \", scores)\n",
    "\n",
    "# Print the average R2 score across all folds\n",
    "print(\"Average R2 score: \", scores.mean())"
   ]
  },
  {
   "cell_type": "markdown",
   "id": "e319c353",
   "metadata": {},
   "source": [
    "# P-values: \n",
    "P-values associated with the coefficients can help determine whether each independent variable is statistically significant in predicting the dependent variable."
   ]
  },
  {
   "cell_type": "code",
   "execution_count": 24,
   "id": "9e52460c",
   "metadata": {},
   "outputs": [
    {
     "name": "stdout",
     "output_type": "stream",
     "text": [
      "\n",
      "P-values:\n",
      " latitude                          1.602589e-28\n",
      "longitude                         0.000000e+00\n",
      "minimum_nights                    1.027000e-01\n",
      "number_of_reviews                 3.740243e-01\n",
      "reviews_per_month                 7.293141e-01\n",
      "calculated_host_listings_count    3.234154e-33\n",
      "availability_365                  7.977032e-15\n",
      "dtype: float64\n"
     ]
    }
   ],
   "source": [
    "# Calculate p-values using statsmodels\n",
    "X_train_sm = sm.add_constant(X_train)\n",
    "model = sm.OLS(y_train, X_train_sm)\n",
    "results = model.fit()\n",
    "pvalues = results.pvalues[1:]\n",
    "print(\"\\nP-values:\\n\", pvalues)"
   ]
  },
  {
   "cell_type": "markdown",
   "id": "48295d10",
   "metadata": {},
   "source": [
    "# Residuals:\n",
    "The residuals are the differences between the actual values of the dependent variable and the predicted values from the model. Analyzing the residuals can help detect any patterns or trends in the data that are not captured by the model."
   ]
  },
  {
   "cell_type": "code",
   "execution_count": 25,
   "id": "eb9f880c",
   "metadata": {},
   "outputs": [
    {
     "name": "stdout",
     "output_type": "stream",
     "text": [
      "\n",
      "Residuals:\n",
      " 1272    -0.261602\n",
      "3222    -0.056474\n",
      "6421     1.055562\n",
      "7792     0.191882\n",
      "11702   -0.400175\n",
      "           ...   \n",
      "6815     0.480821\n",
      "8203     0.403125\n",
      "15594   -0.393196\n",
      "16037   -0.838823\n",
      "15473   -0.743059\n",
      "Name: price, Length: 4105, dtype: float64\n"
     ]
    }
   ],
   "source": [
    "# Calculate residuals\n",
    "\n",
    "residuals = y_test - y_pred\n",
    "print(\"\\nResiduals:\\n\", residuals)"
   ]
  },
  {
   "cell_type": "markdown",
   "id": "8007f708",
   "metadata": {},
   "source": [
    "# Multicollinearity:\n",
    "Linear regression models can also detect multicollinearity, which occurs when the independent variables are highly correlated with each other. This can lead to unstable estimates of the coefficients and reduce the model's predictive power."
   ]
  },
  {
   "cell_type": "code",
   "execution_count": 26,
   "id": "025406f4",
   "metadata": {},
   "outputs": [
    {
     "name": "stdout",
     "output_type": "stream",
     "text": [
      "\n",
      "VIF:\n",
      "                          features       VIF\n",
      "0                        latitude  1.014098\n",
      "1                       longitude  1.059464\n",
      "2                  minimum_nights  1.040234\n",
      "3               number_of_reviews  1.470621\n",
      "4               reviews_per_month  1.479506\n",
      "5  calculated_host_listings_count  1.061772\n",
      "6                availability_365  1.130014\n"
     ]
    }
   ],
   "source": [
    "# Detect multicollinearity using VIF (Variance Inflation Factor)\n",
    "\n",
    "from statsmodels.stats.outliers_influence import variance_inflation_factor\n",
    "\n",
    "# Calculate VIF for each feature\n",
    "\n",
    "vif = pd.DataFrame()\n",
    "vif[\"features\"] = X_train.columns\n",
    "vif[\"VIF\"] = [variance_inflation_factor(X_train.values, i) for i in range(X_train.shape[1])]\n",
    "\n",
    "print(\"\\nVIF:\\n\", vif)"
   ]
  },
  {
   "cell_type": "markdown",
   "id": "af18f955",
   "metadata": {},
   "source": [
    "# Confidence intervals\n",
    "They are a range of values that is likely to contain the true value of a population parameter with a certain level of confidence. In the context of linear regression, we can calculate the confidence intervals for the regression coefficients to get an idea of how precise our estimate is."
   ]
  },
  {
   "cell_type": "code",
   "execution_count": 27,
   "id": "352003d9",
   "metadata": {},
   "outputs": [
    {
     "name": "stdout",
     "output_type": "stream",
     "text": [
      "                            OLS Regression Results                            \n",
      "==============================================================================\n",
      "Dep. Variable:                  price   R-squared:                       0.113\n",
      "Model:                            OLS   Adj. R-squared:                  0.112\n",
      "Method:                 Least Squares   F-statistic:                     297.6\n",
      "Date:                Sun, 09 Apr 2023   Prob (F-statistic):               0.00\n",
      "Time:                        15:04:34   Log-Likelihood:                -22328.\n",
      "No. Observations:               16420   AIC:                         4.467e+04\n",
      "Df Residuals:                   16412   BIC:                         4.473e+04\n",
      "Df Model:                           7                                         \n",
      "Covariance Type:            nonrobust                                         \n",
      "==================================================================================================\n",
      "                                     coef    std err          t      P>|t|      [0.025      0.975]\n",
      "--------------------------------------------------------------------------------------------------\n",
      "const                              0.0010      0.007      0.132      0.895      -0.013       0.015\n",
      "latitude                           0.0820      0.007     11.099      0.000       0.067       0.096\n",
      "longitude                         -0.3109      0.008    -41.020      0.000      -0.326      -0.296\n",
      "minimum_nights                    -0.0127      0.008     -1.632      0.103      -0.028       0.003\n",
      "number_of_reviews                 -0.0078      0.009     -0.889      0.374      -0.025       0.009\n",
      "reviews_per_month                 -0.0031      0.009     -0.346      0.729      -0.021       0.014\n",
      "calculated_host_listings_count     0.0883      0.007     12.034      0.000       0.074       0.103\n",
      "availability_365                   0.0608      0.008      7.775      0.000       0.045       0.076\n",
      "==============================================================================\n",
      "Omnibus:                     1662.499   Durbin-Watson:                   1.998\n",
      "Prob(Omnibus):                  0.000   Jarque-Bera (JB):             2207.168\n",
      "Skew:                           0.873   Prob(JB):                         0.00\n",
      "Kurtosis:                       3.422   Cond. No.                         1.98\n",
      "==============================================================================\n",
      "\n",
      "Notes:\n",
      "[1] Standard Errors assume that the covariance matrix of the errors is correctly specified.\n",
      "                                Lower CI  Upper CI  Coefficients\n",
      "const                          -0.013455  0.015390      0.000968\n",
      "latitude                        0.067479  0.096425      0.081952\n",
      "longitude                      -0.325714 -0.296005     -0.310860\n",
      "minimum_nights                 -0.027962  0.002554     -0.012704\n",
      "number_of_reviews              -0.025072  0.009426     -0.007823\n",
      "reviews_per_month              -0.020638  0.014444     -0.003097\n",
      "calculated_host_listings_count  0.073885  0.102635      0.088260\n",
      "availability_365                0.045484  0.076147      0.060816\n"
     ]
    }
   ],
   "source": [
    "X_train = sm.add_constant(X_train)\n",
    "X_test = sm.add_constant(X_test)\n",
    "\n",
    "# Fit OLS model\n",
    "model = sm.OLS(y_train, X_train).fit()\n",
    "\n",
    "# Print model summary\n",
    "print(model.summary())\n",
    "\n",
    "# Calculate confidence intervals for coefficients\n",
    "ci = model.conf_int()\n",
    "ci.columns = ['Lower CI', 'Upper CI']\n",
    "ci['Coefficients'] = model.params\n",
    "print(ci)\n"
   ]
  },
  {
   "cell_type": "markdown",
   "id": "5ef95e68",
   "metadata": {},
   "source": [
    "# Fitting a Linear Model on Scaled Predictors\n",
    "There's nothing new here -- we fit our regression model the same way as we did earlier -- just now we have numerical predictors which are all standardized to have mean 0 and standard deviation 1.\n"
   ]
  },
  {
   "cell_type": "code",
   "execution_count": 28,
   "id": "d8070da2",
   "metadata": {},
   "outputs": [
    {
     "data": {
      "text/plain": [
       "array([[ 0.        , -0.298024  ],\n",
       "       [ 0.        ,  0.51892089],\n",
       "       [ 0.        ,  1.47918319],\n",
       "       ...,\n",
       "       [ 0.        , -0.06165723],\n",
       "       [ 0.        ,  1.20342196],\n",
       "       [ 0.        , -1.46951905]])"
      ]
     },
     "execution_count": 28,
     "metadata": {},
     "output_type": "execute_result"
    }
   ],
   "source": [
    "X_train_num = X_train.iloc[:, :2]\n",
    "X_test_num = X_test.iloc[:, :2]\n",
    "\n",
    "\n",
    "sc = StandardScaler()\n",
    "sc.fit(X_train_num)\n",
    "X_train_num_scaled = sc.transform(X_train_num)\n",
    "X_test_num_scaled = sc.transform(X_test_num)\n",
    "\n",
    "\n",
    "X_train_num_scaled"
   ]
  },
  {
   "cell_type": "code",
   "execution_count": 29,
   "id": "131365bf",
   "metadata": {},
   "outputs": [
    {
     "name": "stdout",
     "output_type": "stream",
     "text": [
      "Intercept:  0.000967593648273095\n",
      "                        Predictor  Coefficient\n",
      "0                           const     0.000000\n",
      "1                        latitude     0.081952\n",
      "2                       longitude    -0.310860\n",
      "3                  minimum_nights    -0.012704\n",
      "4               number_of_reviews    -0.007823\n",
      "5               reviews_per_month    -0.003097\n",
      "6  calculated_host_listings_count     0.088260\n",
      "7                availability_365     0.060816\n",
      "\n",
      "Training Error Metrics\n",
      "\t The mean error on the training set is:  -8.411190271825181e-18\n",
      "\t The mean absolute error on the test set is:  0.7542737486929333\n",
      "\t The training RMSE is:  0.9425622472747378\n",
      "\n",
      "Test Error Metrics\n",
      "\t The mean error on the test set is:  -0.004837968241074985\n",
      "\t The mean absolute error on the test set is:  0.7505955114092413\n",
      "\t The test RMSE is:  0.9375967921181423\n"
     ]
    }
   ],
   "source": [
    "X_train_scaled = X_train.copy()\n",
    "X_test_scaled = X_test.copy()\n",
    "\n",
    "\n",
    "scaled_reg = linear_model.LinearRegression()  # Create a instance for Linear Regression model\n",
    "scaled_reg.fit(X_train_scaled, y_train)  # Fit data to the model\n",
    "\n",
    "\n",
    "#Print the coefficients\n",
    "print(\"Intercept: \", scaled_reg.intercept_)\n",
    "print(pd.DataFrame({\"Predictor\" : X_train_scaled.columns, \"Coefficient\" : scaled_reg.coef_}))\n",
    "\n",
    "\n",
    "#Compute performance metrics\n",
    "meanErrorTrainScaled = (y_train - scaled_reg.predict(X_train_scaled)).mean()\n",
    "meanAbsoluteErrorTrainScaled = (abs(y_train - scaled_reg.predict(X_train_scaled))).mean()\n",
    "trainRMSEscaled = (((y_train - scaled_reg.predict(X_train_scaled))**2).mean())**0.5\n",
    "\n",
    "\n",
    "meanErrorTestScaled = (y_test - scaled_reg.predict(X_test_scaled)).mean()\n",
    "meanAbsoluteErrorTestScaled = (abs(y_test - scaled_reg.predict(X_test_scaled))).mean()\n",
    "testRMSEscaled = (((y_test - scaled_reg.predict(X_test_scaled))**2).mean())**0.5\n",
    "\n",
    "\n",
    "#Print out training error metrics\n",
    "print(\"\\nTraining Error Metrics\")\n",
    "print(\"\\t The mean error on the training set is: \", meanErrorTrainScaled)\n",
    "print(\"\\t The mean absolute error on the test set is: \", meanAbsoluteErrorTrainScaled)\n",
    "print(\"\\t The training RMSE is: \", trainRMSEscaled)\n",
    "\n",
    "#Print out test error metrics\n",
    "print(\"\\nTest Error Metrics\")\n",
    "print(\"\\t The mean error on the test set is: \", meanErrorTestScaled)\n",
    "print(\"\\t The mean absolute error on the test set is: \", meanAbsoluteErrorTestScaled)\n",
    "print(\"\\t The test RMSE is: \", testRMSEscaled)\n"
   ]
  },
  {
   "cell_type": "markdown",
   "id": "d0068927",
   "metadata": {},
   "source": [
    "# Computing performance metrics"
   ]
  },
  {
   "cell_type": "code",
   "execution_count": 30,
   "id": "8f299f45",
   "metadata": {},
   "outputs": [
    {
     "name": "stdout",
     "output_type": "stream",
     "text": [
      "\n",
      "Training Error Metrics\n",
      "\t The mean error on the training set is:  -1.6724953970142463e-12\n",
      "\t The mean absolute error on the test set is:  48.37907925085337\n",
      "\t The training RMSE is:  60.4607050260595\n",
      "\n",
      "Test Error Metrics\n",
      "\t The mean error on the test set is:  -1.6724953970142463e-12\n",
      "\t The mean absolute error on the test set is:  48.37907925085337\n",
      "\t The test RMSE is:  60.4607050260595\n"
     ]
    }
   ],
   "source": [
    "X_train = dataset.drop(\"price\", axis = 1)\n",
    "y_train = dataset[\"price\"]\n",
    "X_test = dataset.drop(\"price\", axis = 1)\n",
    "y_test = dataset[\"price\"]\n",
    "\n",
    "#Instantiate, fit, and validate regressor\n",
    "lin_reg = linear_model.LinearRegression()\n",
    "lin_reg.fit(X_train, y_train)\n",
    "\n",
    "\n",
    "#Compute performance metrics\n",
    "meanErrorTrain = (y_train - lin_reg.predict(X_train)).mean()\n",
    "meanAbsoluteErrorTrain = (abs(y_train - lin_reg.predict(X_train))).mean()\n",
    "trainRMSE = (((y_train - lin_reg.predict(X_train))**2).mean())**0.5\n",
    "\n",
    "\n",
    "meanErrorTest = (y_test - lin_reg.predict(X_test)).mean()\n",
    "meanAbsoluteErrorTest = (abs(y_test - lin_reg.predict(X_test))).mean()\n",
    "testRMSE = (((y_test - lin_reg.predict(X_test))**2).mean())**0.5\n",
    "\n",
    "#Print out training error metrics\n",
    "print(\"\\nTraining Error Metrics\")\n",
    "print(\"\\t The mean error on the training set is: \", meanErrorTrain)\n",
    "print(\"\\t The mean absolute error on the test set is: \", meanAbsoluteErrorTrain)\n",
    "print(\"\\t The training RMSE is: \", trainRMSE)\n",
    "\n",
    "\n",
    "#Print out test error metrics\n",
    "print(\"\\nTest Error Metrics\")\n",
    "print(\"\\t The mean error on the test set is: \", meanErrorTest)\n",
    "print(\"\\t The mean absolute error on the test set is: \", meanAbsoluteErrorTest)\n",
    "print(\"\\t The test RMSE is: \", testRMSE)\n"
   ]
  },
  {
   "cell_type": "markdown",
   "id": "b07b4d3a",
   "metadata": {},
   "source": [
    "# Predicting the \"price\" based on only a few selected columns from the dataset."
   ]
  },
  {
   "cell_type": "markdown",
   "id": "3b454b8c",
   "metadata": {},
   "source": [
    "We can predict the values based on a few selected columns too, In the below example, We are using the \"number_of_reviews\" and \"reviews_per_month\" to predict the \"Price\". In this way, we can use any of the columns."
   ]
  },
  {
   "cell_type": "code",
   "execution_count": 31,
   "id": "3786a46e",
   "metadata": {},
   "outputs": [
    {
     "name": "stdout",
     "output_type": "stream",
     "text": [
      "Intercept:  118.72699959529407\n"
     ]
    }
   ],
   "source": [
    "S_C_LR = linear_model.LinearRegression()\n",
    "\n",
    "selected_column = S_C_LR.fit(X_train[['number_of_reviews', 'reviews_per_month']] , y_train )\n",
    "\n",
    "selected_X_test = X_test[['number_of_reviews', 'reviews_per_month']]\n",
    "\n",
    "selected_column_pred = S_C_LR.predict(selected_X_test)\n",
    "\n",
    "print(\"Intercept: \", S_C_LR.intercept_)"
   ]
  },
  {
   "cell_type": "markdown",
   "id": "806c755f",
   "metadata": {},
   "source": [
    "# Outliers analysis\n",
    "\n",
    "To perform outliers analysis in the linear regression model, we can use the residuals of the model. Residuals are the differences between the actual and predicted values of the dependent variable. Outliers are the data points that have large residuals, indicating that they are not well predicted by the model. We can use various methods to identify outliers, such as visual inspection of residuals plots, leverage plots, Cook's distance, and more"
   ]
  },
  {
   "cell_type": "code",
   "execution_count": 32,
   "id": "153bf4d8",
   "metadata": {},
   "outputs": [
    {
     "data": {
      "image/png": "[encoded data removed]",
      "text/plain": [
       "<Figure size 576x432 with 1 Axes>"
      ]
     },
     "metadata": {
      "needs_background": "light"
     },
     "output_type": "display_data"
    }
   ],
   "source": [
    "import statsmodels.api as sm\n",
    "import matplotlib.pyplot as plt\n",
    "\n",
    "# Fit the linear regression model\n",
    "model = sm.OLS(y_train, X_train).fit()\n",
    "\n",
    "# Calculate the residuals and standardized residuals\n",
    "residuals = model.resid\n",
    "std_resid = model.get_influence().resid_studentized_internal\n",
    "fitted_value = model.fittedvalues\n",
    "\n",
    "# Plot the histogram of standardized residuals\n",
    "fig, ax = plt.subplots(figsize=(8, 6))\n",
    "ax.hist(std_resid, bins=50)\n",
    "ax.set_title(\"Histogram of Standardized Residuals\")\n",
    "ax.set_xlabel(\"Standardized Residuals\")\n",
    "ax.set_ylabel(\"Frequency\")\n",
    "plt.show()"
   ]
  },
  {
   "cell_type": "code",
   "execution_count": 33,
   "id": "11dcb4e0",
   "metadata": {},
   "outputs": [
    {
     "data": {
      "image/png": "[encoded data removed]",
      "text/plain": [
       "<Figure size 576x432 with 1 Axes>"
      ]
     },
     "metadata": {
      "needs_background": "light"
     },
     "output_type": "display_data"
    }
   ],
   "source": [
    "# Plot the QQ-plot of standardized residuals\n",
    "\n",
    "fig, ax = plt.subplots(figsize=(8, 6))\n",
    "sm.qqplot(std_resid, line='s', ax=ax)\n",
    "ax.set_title(\"Normal Q-Q Plot of Standardized Residuals\")\n",
    "ax.set_xlabel(\"Theoretical Quantiles\")\n",
    "ax.set_ylabel(\"Sample Quantiles\")\n",
    "plt.show()"
   ]
  },
  {
   "cell_type": "markdown",
   "id": "6d307105",
   "metadata": {},
   "source": [
    "The above code calculates the residuals and standardized residuals of the linear regression model and plots the histogram and QQ-plot of the standardized residuals. These plots help us to check if the residuals are normally distributed, which is one of the assumptions of linear regression.\n",
    "\n",
    "The code also plots the leverage plot, which helps us to identify the data points with high leverage. High leverage data points can have a large influence on the regression line and may be outliers.\n",
    "\n",
    "### We can also use Cook's distance to identify influential data points:"
   ]
  },
  {
   "cell_type": "code",
   "execution_count": 34,
   "id": "5c398cd4",
   "metadata": {},
   "outputs": [
    {
     "data": {
      "image/png": "[encoded data removed]",
      "text/plain": [
       "<Figure size 576x432 with 1 Axes>"
      ]
     },
     "metadata": {
      "needs_background": "light"
     },
     "output_type": "display_data"
    }
   ],
   "source": [
    "# Calculate Cook's distance\n",
    "infl = model.get_influence()\n",
    "(c, p) = infl.cooks_distance\n",
    "\n",
    "# Plot Cook's distance\n",
    "fig, ax = plt.subplots(figsize=(8, 6))\n",
    "ax.stem(c, markerfmt=\",\")\n",
    "\n",
    "# Set the threshold for influential points\n",
    "ax.axhline(y=4/len(y_train), linestyle='--', color='r')\n",
    "ax.set_title(\"Cook's Distance Plot\")\n",
    "ax.set_xlabel(\"Data Points\")\n",
    "ax.set_ylabel(\"Cook's Distance\")\n",
    "plt.show()"
   ]
  }
 ],
 "metadata": {
  "kernelspec": {
   "display_name": "Python 3 (ipykernel)",
   "language": "python",
   "name": "python3"
  },
  "language_info": {
   "codemirror_mode": {
    "name": "ipython",
    "version": 3
   },
   "file_extension": ".py",
   "mimetype": "text/x-python",
   "name": "python",
   "nbconvert_exporter": "python",
   "pygments_lexer": "ipython3",
   "version": "3.9.12"
  }
 },
 "nbformat": 4,
 "nbformat_minor": 5
}
